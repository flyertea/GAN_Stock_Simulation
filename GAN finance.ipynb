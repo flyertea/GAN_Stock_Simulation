{
 "cells": [
  {
   "cell_type": "markdown",
   "metadata": {},
   "source": [
    "# Generative Adversarial Network for Stock Price Generation"
   ]
  },
  {
   "cell_type": "code",
   "execution_count": 4,
   "metadata": {},
   "outputs": [],
   "source": [
    "import tensorflow as tf\n",
    "import random\n",
    "import numpy as np\n",
    "import pandas as pd\n",
    "import matplotlib.pyplot as plt\n",
    "%matplotlib inline"
   ]
  },
  {
   "cell_type": "code",
   "execution_count": 8,
   "metadata": {
    "scrolled": true
   },
   "outputs": [
    {
     "data": {
      "text/html": [
       "<div>\n",
       "<style scoped>\n",
       "    .dataframe tbody tr th:only-of-type {\n",
       "        vertical-align: middle;\n",
       "    }\n",
       "\n",
       "    .dataframe tbody tr th {\n",
       "        vertical-align: top;\n",
       "    }\n",
       "\n",
       "    .dataframe thead th {\n",
       "        text-align: right;\n",
       "    }\n",
       "</style>\n",
       "<table border=\"1\" class=\"dataframe\">\n",
       "  <thead>\n",
       "    <tr style=\"text-align: right;\">\n",
       "      <th></th>\n",
       "      <th>Unnamed: 0</th>\n",
       "      <th>open</th>\n",
       "      <th>close</th>\n",
       "      <th>high</th>\n",
       "      <th>low</th>\n",
       "      <th>volume</th>\n",
       "      <th>money</th>\n",
       "    </tr>\n",
       "  </thead>\n",
       "  <tbody>\n",
       "    <tr>\n",
       "      <th>0</th>\n",
       "      <td>2005-04-08 09:31:00</td>\n",
       "      <td>984.66</td>\n",
       "      <td>983.83</td>\n",
       "      <td>984.66</td>\n",
       "      <td>983.66</td>\n",
       "      <td>19930000.0</td>\n",
       "      <td>214853842.0</td>\n",
       "    </tr>\n",
       "    <tr>\n",
       "      <th>1</th>\n",
       "      <td>2005-04-08 09:32:00</td>\n",
       "      <td>983.85</td>\n",
       "      <td>984.79</td>\n",
       "      <td>984.79</td>\n",
       "      <td>983.85</td>\n",
       "      <td>6780000.0</td>\n",
       "      <td>73091272.0</td>\n",
       "    </tr>\n",
       "    <tr>\n",
       "      <th>2</th>\n",
       "      <td>2005-04-08 09:33:00</td>\n",
       "      <td>984.50</td>\n",
       "      <td>984.84</td>\n",
       "      <td>984.86</td>\n",
       "      <td>984.44</td>\n",
       "      <td>4680000.0</td>\n",
       "      <td>27809568.0</td>\n",
       "    </tr>\n",
       "    <tr>\n",
       "      <th>3</th>\n",
       "      <td>2005-04-08 09:34:00</td>\n",
       "      <td>984.93</td>\n",
       "      <td>985.55</td>\n",
       "      <td>985.67</td>\n",
       "      <td>984.83</td>\n",
       "      <td>6150000.0</td>\n",
       "      <td>27162392.0</td>\n",
       "    </tr>\n",
       "    <tr>\n",
       "      <th>4</th>\n",
       "      <td>2005-04-08 09:35:00</td>\n",
       "      <td>985.64</td>\n",
       "      <td>986.37</td>\n",
       "      <td>986.37</td>\n",
       "      <td>985.64</td>\n",
       "      <td>6520000.0</td>\n",
       "      <td>27208928.0</td>\n",
       "    </tr>\n",
       "  </tbody>\n",
       "</table>\n",
       "</div>"
      ],
      "text/plain": [
       "            Unnamed: 0    open   close    high     low      volume  \\\n",
       "0  2005-04-08 09:31:00  984.66  983.83  984.66  983.66  19930000.0   \n",
       "1  2005-04-08 09:32:00  983.85  984.79  984.79  983.85   6780000.0   \n",
       "2  2005-04-08 09:33:00  984.50  984.84  984.86  984.44   4680000.0   \n",
       "3  2005-04-08 09:34:00  984.93  985.55  985.67  984.83   6150000.0   \n",
       "4  2005-04-08 09:35:00  985.64  986.37  986.37  985.64   6520000.0   \n",
       "\n",
       "         money  \n",
       "0  214853842.0  \n",
       "1   73091272.0  \n",
       "2   27809568.0  \n",
       "3   27162392.0  \n",
       "4   27208928.0  "
      ]
     },
     "execution_count": 8,
     "metadata": {},
     "output_type": "execute_result"
    }
   ],
   "source": [
    "#The data comes from China stock index from 2005 to 2019 on a 1 minute level\n",
    "df = pd.read_csv('000300_2005_2019_1m.csv')\n",
    "df.head()"
   ]
  },
  {
   "cell_type": "code",
   "execution_count": 9,
   "metadata": {},
   "outputs": [],
   "source": [
    "#We consider only the return series\n",
    "C = np.array(df['close'])\n",
    "Ret = (C[1:]-C[:-1])/C[:-1]"
   ]
  },
  {
   "cell_type": "code",
   "execution_count": 10,
   "metadata": {},
   "outputs": [
    {
     "data": {
      "text/plain": [
       "818879"
      ]
     },
     "execution_count": 10,
     "metadata": {},
     "output_type": "execute_result"
    }
   ],
   "source": [
    "N = len(Ret)\n",
    "N"
   ]
  },
  {
   "cell_type": "code",
   "execution_count": 11,
   "metadata": {},
   "outputs": [],
   "source": [
    "#The backward looking condition vector include 25 previous returs and the forward looking prediction vector is also 25 returns\n",
    "l = 25\n",
    "X_cond = np.array([Ret[i:i+2*l] for i in range(N-2*l+1)])"
   ]
  },
  {
   "cell_type": "code",
   "execution_count": 12,
   "metadata": {},
   "outputs": [
    {
     "data": {
      "text/plain": [
       "(818830, 50)"
      ]
     },
     "execution_count": 12,
     "metadata": {},
     "output_type": "execute_result"
    }
   ],
   "source": [
    "X_cond.shape"
   ]
  },
  {
   "cell_type": "code",
   "execution_count": 13,
   "metadata": {},
   "outputs": [],
   "source": [
    "train_size=int(N*0.5)"
   ]
  },
  {
   "cell_type": "code",
   "execution_count": 14,
   "metadata": {},
   "outputs": [
    {
     "data": {
      "text/plain": [
       "(409439, 50)"
      ]
     },
     "execution_count": 14,
     "metadata": {},
     "output_type": "execute_result"
    }
   ],
   "source": [
    "\n",
    "X_train_cond = X_cond[:train_size,:]\n",
    "X_test_cond = X_cond[train_size:,:]\n",
    "X_train_cond.shape"
   ]
  },
  {
   "cell_type": "code",
   "execution_count": 15,
   "metadata": {},
   "outputs": [],
   "source": [
    "#helper function to plot returns as a stock price time series starting at 1\n",
    "def cum_ret(r,past = []):\n",
    "    if len(past)>0:\n",
    "        r = np.array(list(past)+list(r))\n",
    "    l=len(r)\n",
    "    ts = np.ones(l+1)\n",
    "    for i in range(l):\n",
    "        ts[i+1:]*=(1+r[i])\n",
    "    return ts"
   ]
  },
  {
   "cell_type": "code",
   "execution_count": 16,
   "metadata": {},
   "outputs": [
    {
     "data": {
      "image/png": "[encoded data removed]",
      "text/plain": [
       "<Figure size 432x288 with 1 Axes>"
      ]
     },
     "metadata": {},
     "output_type": "display_data"
    }
   ],
   "source": [
    "# A random sample path from the training data\n",
    "randomNum = random.randint(0,train_size)\n",
    "r = X_train_cond[randomNum]\n",
    "ts=cum_ret(r)\n",
    "plt.plot(ts)\n",
    "plt.show()"
   ]
  },
  {
   "cell_type": "markdown",
   "metadata": {},
   "source": [
    "# Discriminator Network"
   ]
  },
  {
   "cell_type": "code",
   "execution_count": 5,
   "metadata": {},
   "outputs": [],
   "source": [
    "#The discriminator takes in a conditional vector w and an input vector x, outputs a scalar value indicating the likelihood of data \n",
    "#belonging to true distribution conditioned on the previous returns w\n",
    "def discriminator(x,w, reuse=False):\n",
    "    with tf.variable_scope('discriminator') as scope:\n",
    "        if (reuse):\n",
    "            tf.get_variable_scope().reuse_variables()\n",
    "        \n",
    "\n",
    "        #First Fully Connected Layer\n",
    "        W_fc11 = tf.get_variable('d_wfc11', [l, 32], initializer=tf.truncated_normal_initializer(stddev=0.01))\n",
    "        W_fc12 = tf.get_variable('d_wfc12', [l, 32], initializer=tf.truncated_normal_initializer(stddev=0.01))\n",
    "        b_fc1 = tf.get_variable('d_bfc1', [32], initializer=tf.constant_initializer(0))\n",
    "        h_fc1 = tf.nn.relu(tf.matmul(w, W_fc11)+tf.matmul(x, W_fc12) + b_fc1)\n",
    "\n",
    "        #Second Fully Connected Layer\n",
    "        W_fc2 = tf.get_variable('d_wfc2', [32, 1], initializer=tf.truncated_normal_initializer(stddev=0.01))\n",
    "        b_fc2 = tf.get_variable('d_bfc2', [1], initializer=tf.constant_initializer(0))\n",
    "\n",
    "        #Final Layer\n",
    "        y=tf.nn.relu(tf.matmul(h_fc1, W_fc2) + b_fc2)\n",
    "    return y"
   ]
  },
  {
   "cell_type": "markdown",
   "metadata": {},
   "source": [
    "# Generator Network"
   ]
  },
  {
   "cell_type": "code",
   "execution_count": 6,
   "metadata": {},
   "outputs": [],
   "source": [
    "#The generator takes in the conditions w, which are previous returns, and a random vector z as the seed, outputs return vector y as the predicted returns\n",
    "def generator(z,w,reuse=False):\n",
    "    with tf.variable_scope('generator') as scope:\n",
    "        if (reuse):\n",
    "            tf.get_variable_scope().reuse_variables()\n",
    "        \n",
    "        W_fc11 = tf.get_variable('g_wfc11', [l, 32], initializer=tf.truncated_normal_initializer(stddev=0.005))\n",
    "        W_fc12 = tf.get_variable('g_wfc12', [l, 32], initializer=tf.truncated_normal_initializer(stddev=0.005))\n",
    "        b_fc1 = tf.get_variable('g_bfc1', [32], initializer=tf.constant_initializer(0))\n",
    "        h_fc1 = tf.nn.relu(tf.matmul(w, W_fc11) + tf.matmul(z, W_fc12)+b_fc1)\n",
    "\n",
    "        #Second Fully Connected Layer\n",
    "        W_fc2 = tf.get_variable('g_wfc2', [32, l], initializer=tf.truncated_normal_initializer(stddev=0.005))\n",
    "        b_fc2 = tf.get_variable('g_bfc2', [l], initializer=tf.constant_initializer(0))\n",
    "        y=tf.nn.tanh(tf.matmul(h_fc1, W_fc2) + b_fc2)\n",
    "\n",
    "    return y"
   ]
  },
  {
   "cell_type": "markdown",
   "metadata": {},
   "source": [
    "## Generating a Sample Time Series"
   ]
  },
  {
   "cell_type": "code",
   "execution_count": 13,
   "metadata": {},
   "outputs": [],
   "source": [
    "sess = tf.Session()\n",
    "z_test_placeholder = tf.placeholder(\"float\", [10,l])\n",
    "w_test_placeholder = tf.placeholder(\"float\", [10,l])"
   ]
  },
  {
   "cell_type": "code",
   "execution_count": 14,
   "metadata": {},
   "outputs": [],
   "source": [
    "sample_image = generator(z_test_placeholder,w_test_placeholder)\n",
    "test_z = np.random.normal(0, 1, [10,l])"
   ]
  },
  {
   "cell_type": "code",
   "execution_count": 15,
   "metadata": {},
   "outputs": [],
   "source": [
    "test_w = X_train_cond[randomNum:randomNum+10,:l]\n",
    "sess.run(tf.global_variables_initializer())\n",
    "temp = (sess.run(sample_image, feed_dict={z_test_placeholder: test_z,w_test_placeholder: test_w}))"
   ]
  },
  {
   "cell_type": "markdown",
   "metadata": {},
   "source": [
    "Finally, we can view the output through matplotlib. "
   ]
  },
  {
   "cell_type": "code",
   "execution_count": 16,
   "metadata": {},
   "outputs": [
    {
     "data": {
      "image/png": "[encoded data removed]",
      "text/plain": [
       "<Figure size 432x288 with 1 Axes>"
      ]
     },
     "metadata": {},
     "output_type": "display_data"
    }
   ],
   "source": [
    "my_i = temp.squeeze()\n",
    "plt.plot(cum_ret(my_i[5]),'r')\n",
    "plt.plot(cum_ret(X_train_cond[randomNum+5,l:]),'b')\n",
    "plt.show()"
   ]
  },
  {
   "cell_type": "markdown",
   "metadata": {},
   "source": [
    "# Training a GAN"
   ]
  },
  {
   "cell_type": "code",
   "execution_count": 17,
   "metadata": {},
   "outputs": [],
   "source": [
    "batch_size = 64\n",
    "tf.reset_default_graph() \n",
    "\n",
    "sess = tf.Session()\n",
    "x_placeholder = tf.placeholder(\"float\", shape = [None,l]) #Placeholder for input data vector to the discriminator\n",
    "z_placeholder = tf.placeholder(tf.float32, [None, l]) #Placeholder for input noise vectors to the generator\n",
    "w_placeholder = tf.placeholder(tf.float32, [None, l]) #Placeholder for input condition vectors to both discriminator and generator"
   ]
  },
  {
   "cell_type": "code",
   "execution_count": 18,
   "metadata": {},
   "outputs": [],
   "source": [
    "Dx = discriminator(x_placeholder,w_placeholder) #Dx will hold discriminator outputs (unnormalized) for the real data\n",
    "Gz = generator(z_placeholder,w_placeholder) #Gz holds the generated data\n",
    "Dg = discriminator(Gz,w_placeholder,reuse=True) #Dg will hold discriminator outputs (unnormalized) for generated data"
   ]
  },
  {
   "cell_type": "code",
   "execution_count": 19,
   "metadata": {},
   "outputs": [],
   "source": [
    "g_loss = tf.reduce_mean(tf.nn.sigmoid_cross_entropy_with_logits(logits=Dg, labels=tf.ones_like(Dg)))  "
   ]
  },
  {
   "cell_type": "code",
   "execution_count": 20,
   "metadata": {},
   "outputs": [],
   "source": [
    "d_loss_real = tf.reduce_mean(tf.nn.sigmoid_cross_entropy_with_logits(logits=Dx, labels=tf.ones_like(Dx)))\n",
    "d_loss_fake = tf.reduce_mean(tf.nn.sigmoid_cross_entropy_with_logits(logits=Dg, labels=tf.zeros_like(Dg)))\n",
    "d_loss = d_loss_real + d_loss_fake"
   ]
  },
  {
   "cell_type": "code",
   "execution_count": 21,
   "metadata": {},
   "outputs": [],
   "source": [
    "tvars = tf.trainable_variables()\n",
    "d_vars = [var for var in tvars if 'd_' in var.name]\n",
    "g_vars = [var for var in tvars if 'g_' in var.name]"
   ]
  },
  {
   "cell_type": "code",
   "execution_count": 22,
   "metadata": {},
   "outputs": [],
   "source": [
    "with tf.variable_scope(tf.get_variable_scope(), reuse=False):\n",
    "    trainerD = tf.train.AdamOptimizer().minimize(d_loss, var_list=d_vars)\n",
    "    trainerG = tf.train.AdamOptimizer().minimize(g_loss, var_list=g_vars)"
   ]
  },
  {
   "cell_type": "code",
   "execution_count": 23,
   "metadata": {},
   "outputs": [],
   "source": [
    "sess.run(tf.global_variables_initializer())\n",
    "iterations = 6000\n",
    "for i in range(iterations):\n",
    "    z_batch = np.random.normal(0, 1, size=[batch_size, l])\n",
    "    real_data_batch = X_train_cond[i*batch_size:(i+1)*batch_size,l:]\n",
    "    real_cond_batch = X_train_cond[i*batch_size:(i+1)*batch_size,:l]\n",
    "    \n",
    "    _,dLoss = sess.run([trainerD, d_loss],feed_dict={z_placeholder:z_batch,x_placeholder:real_data_batch,w_placeholder:real_cond_batch}) #Update the discriminator\n",
    "    _,gLoss = sess.run([trainerG,g_loss],feed_dict={z_placeholder:z_batch,w_placeholder:real_cond_batch}) #Update the generator "
   ]
  },
  {
   "cell_type": "markdown",
   "metadata": {},
   "source": [
    "## Sample a time series from test data and compare the generated path with the original one"
   ]
  },
  {
   "cell_type": "code",
   "execution_count": 29,
   "metadata": {
    "scrolled": true
   },
   "outputs": [
    {
     "data": {
      "text/plain": [
       "[<matplotlib.lines.Line2D at 0x21bafbc8d68>]"
      ]
     },
     "execution_count": 29,
     "metadata": {},
     "output_type": "execute_result"
    },
    {
     "data": {
      "image/png": "[encoded data removed]",
      "text/plain": [
       "<Figure size 432x288 with 1 Axes>"
      ]
     },
     "metadata": {},
     "output_type": "display_data"
    }
   ],
   "source": [
    "rN = random.randint(0,len(X_test_cond))\n",
    "test_z = generator(z_placeholder,w_placeholder,reuse=True)\n",
    "z_batch = np.random.normal(0, 1, size=[1,l])\n",
    "test_cond = X_test_cond[rN:rN+1,:l]\n",
    "test_y = X_test_cond[rN,l:]\n",
    "temp = (sess.run(test_z, feed_dict={z_placeholder: z_batch,w_placeholder: test_cond}))\n",
    "my_i = temp.squeeze()\n",
    "plt.plot(cum_ret(my_i,past=test_cond[0]),'r')\n",
    "plt.plot(cum_ret(test_y,past=test_cond[0]),'b')"
   ]
  },
  {
   "cell_type": "code",
   "execution_count": 1,
   "metadata": {},
   "outputs": [],
   "source": [
    "from tensorflow.python.summary.writer.writer import FileWriter"
   ]
  },
  {
   "cell_type": "code",
   "execution_count": 23,
   "metadata": {},
   "outputs": [
    {
     "name": "stderr",
     "output_type": "stream",
     "text": [
      "UsageError: Line magic function `%tensorboard` not found.\n"
     ]
    }
   ],
   "source": [
    "FileWriter('logs/train_D', graph=trainerD.graph).close()\n",
    "%tensorboard --logdir logs/train_D"
   ]
  }
 ],
 "metadata": {
  "anaconda-cloud": {},
  "kernelspec": {
   "display_name": "Python 3",
   "language": "python",
   "name": "python3"
  },
  "language_info": {
   "codemirror_mode": {
    "name": "ipython",
    "version": 3
   },
   "file_extension": ".py",
   "mimetype": "text/x-python",
   "name": "python",
   "nbconvert_exporter": "python",
   "pygments_lexer": "ipython3",
   "version": "3.6.2"
  }
 },
 "nbformat": 4,
 "nbformat_minor": 1
}
